{
 "cells": [
  {
   "cell_type": "markdown",
   "metadata": {
    "collapsed": true,
    "pycharm": {
     "name": "#%%\n"
    }
   },
   "source": [
    "### ℹ️ This document describes the re-creation delta:\n",
    "\n",
    "\n"
   ]
  },
  {
   "cell_type": "markdown",
   "metadata": {},
   "source": [
    "This description is divided into 2 sections. We desctibe the differences in terms of Procress and Data; each section describes the underlaying methodlogy, challenges faced, how it was handled and Levenshtein distance. \n",
    "#### Part 1) Process:\n",
    "\n",
    "The methodology used in original and recreation work are same however due to issues in the code or un-explained manaul parts; we had to employ remedees or alternatives in the implementation and exection of the proccess.\n",
    "The alternatives we had to adopt include:\n",
    "\n",
    "1- Re-organization: The data and code are poorly mixed in the original work. The first part of the 'actuall.py' focuses on moving file to their correct directory.\n",
    "\n",
    "2- Fixing python codes that do not run: There are parts of the code that need minor changes to work. I have used the original work and deep-linked them using \\_\\_import\\_\\_() method.\n",
    "In cases that it was not possible, I have made a custom method that includes the fixed version of original code.\n",
    "\n",
    "3- Unexplained gradle build and java runtimes: Parts that use the java jdk and gradle are un-explained in the original work. It seems like the authors have ran them manually.\n",
    "Since running manually is difficult for me. I have made a DockerFile that starts and Alpine injected with Java and Gradle to handle the builds and making output results. This change means you need both Python environment and Docker to run this project.\n"
   ]
  },
  {
   "cell_type": "code",
   "execution_count": 14,
   "metadata": {},
   "outputs": [],
   "source": [
    "import Levenshtein"
   ]
  },
  {
   "cell_type": "markdown",
   "metadata": {},
   "source": [
    "🧮 It is possible to calcualte the Levenshtein distancce between the python codes from the project and the codes used in re-creation:"
   ]
  },
  {
   "cell_type": "code",
   "execution_count": 15,
   "metadata": {},
   "outputs": [],
   "source": [
    "all_original_codes = ''\n",
    "all_recreation_codes = ''"
   ]
  },
  {
   "cell_type": "code",
   "execution_count": 16,
   "metadata": {},
   "outputs": [
    {
     "name": "stdout",
     "output_type": "stream",
     "text": [
      "Levenshtein number for process:  0\n"
     ]
    }
   ],
   "source": [
    "lp = Levenshtein.distance(all_original_codes, all_recreation_codes)\n",
    "print('Levenshtein number for process: ', lp)"
   ]
  },
  {
   "cell_type": "markdown",
   "metadata": {},
   "source": [
    "#### Part 2) Data:\n",
    "Flow of data and what is being generated are almost identical to each other since same approaches have been adopted.\n",
    "We can divide the data into 3 sections:\n",
    "\n",
    "1- Input: Input data is completely identical; we use exact same inputs.\n",
    "\n",
    "2- Temp: Temporary data created by us resembles the original work. We only missed the re-runs folder since developing a docker\n",
    "that runs projects multiple times took too much effort and was out of scope of me doing it alone.\n",
    "\n",
    "3- Output: Uses similar format, naming and outputs. We have extra output that have been used for calculation of distance between original work and recreation.\n",
    "\n"
   ]
  },
  {
   "cell_type": "markdown",
   "metadata": {},
   "source": [
    "🧮 It is also possible to calcualte the Levenshtein distancce between all original data from repository and our re-creation data:"
   ]
  },
  {
   "cell_type": "code",
   "execution_count": 17,
   "metadata": {},
   "outputs": [],
   "source": [
    "all_original_data = ''\n",
    "all_recreation_data = ''"
   ]
  },
  {
   "cell_type": "code",
   "execution_count": 18,
   "metadata": {},
   "outputs": [
    {
     "name": "stdout",
     "output_type": "stream",
     "text": [
      "Levenshtein number for data:  0\n"
     ]
    }
   ],
   "source": [
    "ld =  Levenshtein.distance(all_original_data, all_recreation_data)\n",
    "\n",
    "print('Levenshtein number for data: ', ld)"
   ]
  }
 ],
 "metadata": {
  "kernelspec": {
   "display_name": "Python 3",
   "language": "python",
   "name": "python3"
  },
  "language_info": {
   "codemirror_mode": {
    "name": "ipython",
    "version": 3
   },
   "file_extension": ".py",
   "mimetype": "text/x-python",
   "name": "python",
   "nbconvert_exporter": "python",
   "pygments_lexer": "ipython3",
   "version": "3.8.5"
  }
 },
 "nbformat": 4,
 "nbformat_minor": 1
}