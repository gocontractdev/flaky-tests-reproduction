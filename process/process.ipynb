{
 "cells": [
  {
   "cell_type": "markdown",
   "metadata": {
    "collapsed": true,
    "pycharm": {
     "name": "#%%\n"
    }
   },
   "source": [
    "##### ℹ️ Process: This document describes the process of re-creation, general challenges and work arounds that have been advised for it.\n",
    "\n"
   ]
  },
  {
   "cell_type": "code",
   "execution_count": 1,
   "metadata": {},
   "outputs": [],
   "source": [
    "import pandas as pd\n",
    "\n",
    "easy_path = '../data/input/ez/'\n",
    "easy_output_path = '../data/output/ez/'"
   ]
  },
  {
   "cell_type": "markdown",
   "metadata": {},
   "source": [
    "#### Part 0:\n",
    "\n",
    "deflaker is the main data set has been used in this project. It monitors the followin datasets:\n",
    "    \n"
   ]
  },
  {
   "cell_type": "code",
   "execution_count": 2,
   "metadata": {},
   "outputs": [
    {
     "data": {
      "text/plain": "      Project Name                                   Project Address\n0         Achilles            git@github.com:doanduyhai/Achilles.git\n1           ambari                  git@github.com:apache/ambari.git\n2     assertj-core  git@github.com:joel-costigliola/assertj-core.git\n3       checkstyle          git@github.com:checkstyle/checkstyle.git\n4    cloudera.oryx                  git@github.com:cloudera/oryx.git\n5     commons-exec            git@github.com:apache/commons-exec.git\n6       dropwizard          git@github.com:dropwizard/dropwizard.git\n7           hadoop                  git@github.com:apache/hadoop.git\n8  handlebars.java         git@github.com:jknack/handlebars.java.git\n9            hbase                   git@github.com:apache/hbase.git",
      "text/html": "<div>\n<style scoped>\n    .dataframe tbody tr th:only-of-type {\n        vertical-align: middle;\n    }\n\n    .dataframe tbody tr th {\n        vertical-align: top;\n    }\n\n    .dataframe thead th {\n        text-align: right;\n    }\n</style>\n<table border=\"1\" class=\"dataframe\">\n  <thead>\n    <tr style=\"text-align: right;\">\n      <th></th>\n      <th>Project Name</th>\n      <th>Project Address</th>\n    </tr>\n  </thead>\n  <tbody>\n    <tr>\n      <th>0</th>\n      <td>Achilles</td>\n      <td>git@github.com:doanduyhai/Achilles.git</td>\n    </tr>\n    <tr>\n      <th>1</th>\n      <td>ambari</td>\n      <td>git@github.com:apache/ambari.git</td>\n    </tr>\n    <tr>\n      <th>2</th>\n      <td>assertj-core</td>\n      <td>git@github.com:joel-costigliola/assertj-core.git</td>\n    </tr>\n    <tr>\n      <th>3</th>\n      <td>checkstyle</td>\n      <td>git@github.com:checkstyle/checkstyle.git</td>\n    </tr>\n    <tr>\n      <th>4</th>\n      <td>cloudera.oryx</td>\n      <td>git@github.com:cloudera/oryx.git</td>\n    </tr>\n    <tr>\n      <th>5</th>\n      <td>commons-exec</td>\n      <td>git@github.com:apache/commons-exec.git</td>\n    </tr>\n    <tr>\n      <th>6</th>\n      <td>dropwizard</td>\n      <td>git@github.com:dropwizard/dropwizard.git</td>\n    </tr>\n    <tr>\n      <th>7</th>\n      <td>hadoop</td>\n      <td>git@github.com:apache/hadoop.git</td>\n    </tr>\n    <tr>\n      <th>8</th>\n      <td>handlebars.java</td>\n      <td>git@github.com:jknack/handlebars.java.git</td>\n    </tr>\n    <tr>\n      <th>9</th>\n      <td>hbase</td>\n      <td>git@github.com:apache/hbase.git</td>\n    </tr>\n  </tbody>\n</table>\n</div>"
     },
     "execution_count": 2,
     "metadata": {},
     "output_type": "execute_result"
    }
   ],
   "source": [
    "projects = pd.read_csv(easy_path + 'historical_projects.csv')\n",
    "\n",
    "projects.head(10)"
   ]
  },
  {
   "cell_type": "markdown",
   "metadata": {},
   "source": [
    "\n",
    "#### Part 1:\n",
    "\n",
    "To detect flaky test samples, we have to run \"mine_test_files.py\" using \"historical_rerun_flaky_tests.csv\"\n",
    "\n",
    "❌ Unfortunately, this code does not run. -> Solution: I had to fix the logic for this file."
   ]
  },
  {
   "cell_type": "code",
   "execution_count": 3,
   "metadata": {},
   "outputs": [
    {
     "data": {
      "text/plain": "    Project                                       sha  \\\n0  achilles  2a82e0a011197906a8471be487da8b24ffaa39d9   \n1  achilles  3ef293744f913c1aa8cf59d2fdd78f46a5e2f79f   \n2  achilles  3ef293744f913c1aa8cf59d2fdd78f46a5e2f79f   \n3  achilles  3ef293744f913c1aa8cf59d2fdd78f46a5e2f79f   \n4  achilles  3ef293744f913c1aa8cf59d2fdd78f46a5e2f79f   \n5  achilles  3ef293744f913c1aa8cf59d2fdd78f46a5e2f79f   \n6  achilles  3ef293744f913c1aa8cf59d2fdd78f46a5e2f79f   \n7  achilles  3ef293744f913c1aa8cf59d2fdd78f46a5e2f79f   \n8  achilles  3ef293744f913c1aa8cf59d2fdd78f46a5e2f79f   \n9  achilles  3ef293744f913c1aa8cf59d2fdd78f46a5e2f79f   \n\n                                          Test class  \\\n0  info.archinnov.achilles.it.TestEntityWithStati...   \n1    info.archinnov.achilles.it.TestALLEntityAsChild   \n2    info.archinnov.achilles.it.TestALLEntityAsChild   \n3    info.archinnov.achilles.it.TestALLEntityAsChild   \n4    info.archinnov.achilles.it.TestALLEntityAsChild   \n5    info.archinnov.achilles.it.TestCRUDSimpleEntity   \n6    info.archinnov.achilles.it.TestCRUDSimpleEntity   \n7    info.archinnov.achilles.it.TestCRUDSimpleEntity   \n8    info.archinnov.achilles.it.TestCRUDSimpleEntity   \n9    info.archinnov.achilles.it.TestCRUDSimpleEntity   \n\n                              Test method  \n0    should_find_using_static_consistency  \n1                     should_delete_by_id  \n2                       should_dsl_delete  \n3           should_dsl_update_child_value  \n4                           should_insert  \n5                     should_delete_by_id  \n6              should_delete_by_partition  \n7      should_delete_with_equal_condition  \n8    should_delete_with_inequal_condition  \n9  should_delete_with_not_equal_condition  ",
      "text/html": "<div>\n<style scoped>\n    .dataframe tbody tr th:only-of-type {\n        vertical-align: middle;\n    }\n\n    .dataframe tbody tr th {\n        vertical-align: top;\n    }\n\n    .dataframe thead th {\n        text-align: right;\n    }\n</style>\n<table border=\"1\" class=\"dataframe\">\n  <thead>\n    <tr style=\"text-align: right;\">\n      <th></th>\n      <th>Project</th>\n      <th>sha</th>\n      <th>Test class</th>\n      <th>Test method</th>\n    </tr>\n  </thead>\n  <tbody>\n    <tr>\n      <th>0</th>\n      <td>achilles</td>\n      <td>2a82e0a011197906a8471be487da8b24ffaa39d9</td>\n      <td>info.archinnov.achilles.it.TestEntityWithStati...</td>\n      <td>should_find_using_static_consistency</td>\n    </tr>\n    <tr>\n      <th>1</th>\n      <td>achilles</td>\n      <td>3ef293744f913c1aa8cf59d2fdd78f46a5e2f79f</td>\n      <td>info.archinnov.achilles.it.TestALLEntityAsChild</td>\n      <td>should_delete_by_id</td>\n    </tr>\n    <tr>\n      <th>2</th>\n      <td>achilles</td>\n      <td>3ef293744f913c1aa8cf59d2fdd78f46a5e2f79f</td>\n      <td>info.archinnov.achilles.it.TestALLEntityAsChild</td>\n      <td>should_dsl_delete</td>\n    </tr>\n    <tr>\n      <th>3</th>\n      <td>achilles</td>\n      <td>3ef293744f913c1aa8cf59d2fdd78f46a5e2f79f</td>\n      <td>info.archinnov.achilles.it.TestALLEntityAsChild</td>\n      <td>should_dsl_update_child_value</td>\n    </tr>\n    <tr>\n      <th>4</th>\n      <td>achilles</td>\n      <td>3ef293744f913c1aa8cf59d2fdd78f46a5e2f79f</td>\n      <td>info.archinnov.achilles.it.TestALLEntityAsChild</td>\n      <td>should_insert</td>\n    </tr>\n    <tr>\n      <th>5</th>\n      <td>achilles</td>\n      <td>3ef293744f913c1aa8cf59d2fdd78f46a5e2f79f</td>\n      <td>info.archinnov.achilles.it.TestCRUDSimpleEntity</td>\n      <td>should_delete_by_id</td>\n    </tr>\n    <tr>\n      <th>6</th>\n      <td>achilles</td>\n      <td>3ef293744f913c1aa8cf59d2fdd78f46a5e2f79f</td>\n      <td>info.archinnov.achilles.it.TestCRUDSimpleEntity</td>\n      <td>should_delete_by_partition</td>\n    </tr>\n    <tr>\n      <th>7</th>\n      <td>achilles</td>\n      <td>3ef293744f913c1aa8cf59d2fdd78f46a5e2f79f</td>\n      <td>info.archinnov.achilles.it.TestCRUDSimpleEntity</td>\n      <td>should_delete_with_equal_condition</td>\n    </tr>\n    <tr>\n      <th>8</th>\n      <td>achilles</td>\n      <td>3ef293744f913c1aa8cf59d2fdd78f46a5e2f79f</td>\n      <td>info.archinnov.achilles.it.TestCRUDSimpleEntity</td>\n      <td>should_delete_with_inequal_condition</td>\n    </tr>\n    <tr>\n      <th>9</th>\n      <td>achilles</td>\n      <td>3ef293744f913c1aa8cf59d2fdd78f46a5e2f79f</td>\n      <td>info.archinnov.achilles.it.TestCRUDSimpleEntity</td>\n      <td>should_delete_with_not_equal_condition</td>\n    </tr>\n  </tbody>\n</table>\n</div>"
     },
     "execution_count": 3,
     "metadata": {},
     "output_type": "execute_result"
    }
   ],
   "source": [
    "projects = pd.read_csv(easy_path + 'historical_rerun_flaky_tests.csv')\n",
    "\n",
    "projects.head(10)"
   ]
  },
  {
   "cell_type": "markdown",
   "metadata": {},
   "source": [
    "#### Part 2:\n",
    "\n",
    "To detect non-flaky test sample, the paper relies on running each of the tests '100' time then based on the \n",
    "rereuns tags fully successful ones as LIKELY to be nonflaky.\n",
    "\n",
    "❌ Unfortunately, the git repository does not provide the explination as to how did they ran the tests.\n",
    "-> Solution -> I have completely re-made the logic using docker running Java.\n"
   ]
  },
  {
   "cell_type": "code",
   "execution_count": 3,
   "metadata": {},
   "outputs": [],
   "source": []
  },
  {
   "cell_type": "markdown",
   "metadata": {},
   "source": [
    "### Part 3:\n",
    "\n",
    "Raw Frequenices of each word within the falky test -> this is the starting point for flaky vocabulary investigations\n"
   ]
  },
  {
   "cell_type": "code",
   "execution_count": 4,
   "metadata": {},
   "outputs": [
    {
     "data": {
      "text/plain": "        token  count\n0   assertequ    850\n1         job    550\n2       creat    492\n3         add    471\n4      servic    466\n5      action    453\n6   asserttru    426\n7        conf    411\n8        tabl    408\n9       start    406\n10       util    394\n11      statu    369\n12       fail    352\n13         oo    348\n14       file    339",
      "text/html": "<div>\n<style scoped>\n    .dataframe tbody tr th:only-of-type {\n        vertical-align: middle;\n    }\n\n    .dataframe tbody tr th {\n        vertical-align: top;\n    }\n\n    .dataframe thead th {\n        text-align: right;\n    }\n</style>\n<table border=\"1\" class=\"dataframe\">\n  <thead>\n    <tr style=\"text-align: right;\">\n      <th></th>\n      <th>token</th>\n      <th>count</th>\n    </tr>\n  </thead>\n  <tbody>\n    <tr>\n      <th>0</th>\n      <td>assertequ</td>\n      <td>850</td>\n    </tr>\n    <tr>\n      <th>1</th>\n      <td>job</td>\n      <td>550</td>\n    </tr>\n    <tr>\n      <th>2</th>\n      <td>creat</td>\n      <td>492</td>\n    </tr>\n    <tr>\n      <th>3</th>\n      <td>add</td>\n      <td>471</td>\n    </tr>\n    <tr>\n      <th>4</th>\n      <td>servic</td>\n      <td>466</td>\n    </tr>\n    <tr>\n      <th>5</th>\n      <td>action</td>\n      <td>453</td>\n    </tr>\n    <tr>\n      <th>6</th>\n      <td>asserttru</td>\n      <td>426</td>\n    </tr>\n    <tr>\n      <th>7</th>\n      <td>conf</td>\n      <td>411</td>\n    </tr>\n    <tr>\n      <th>8</th>\n      <td>tabl</td>\n      <td>408</td>\n    </tr>\n    <tr>\n      <th>9</th>\n      <td>start</td>\n      <td>406</td>\n    </tr>\n    <tr>\n      <th>10</th>\n      <td>util</td>\n      <td>394</td>\n    </tr>\n    <tr>\n      <th>11</th>\n      <td>statu</td>\n      <td>369</td>\n    </tr>\n    <tr>\n      <th>12</th>\n      <td>fail</td>\n      <td>352</td>\n    </tr>\n    <tr>\n      <th>13</th>\n      <td>oo</td>\n      <td>348</td>\n    </tr>\n    <tr>\n      <th>14</th>\n      <td>file</td>\n      <td>339</td>\n    </tr>\n  </tbody>\n</table>\n</div>"
     },
     "execution_count": 4,
     "metadata": {},
     "output_type": "execute_result"
    }
   ],
   "source": [
    "projects = pd.read_csv(easy_output_path + 'features_raw.csv')\n",
    "\n",
    "projects.head(15)"
   ]
  },
  {
   "cell_type": "markdown",
   "metadata": {},
   "source": [
    "After applying filters the potential vocabulary of flakiness are:"
   ]
  },
  {
   "cell_type": "code",
   "execution_count": 5,
   "metadata": {},
   "outputs": [
    {
     "data": {
      "text/plain": "      token  count\n0       job    571\n1   service    466\n2    action    457\n3     start    424\n4      file    421\n5       run    394\n6      fail    369\n7    execut    356\n8      call    353\n9      time    348\n10     wait    286\n11     read    277\n12    write    243\n13    close    215\n14     http    182",
      "text/html": "<div>\n<style scoped>\n    .dataframe tbody tr th:only-of-type {\n        vertical-align: middle;\n    }\n\n    .dataframe tbody tr th {\n        vertical-align: top;\n    }\n\n    .dataframe thead th {\n        text-align: right;\n    }\n</style>\n<table border=\"1\" class=\"dataframe\">\n  <thead>\n    <tr style=\"text-align: right;\">\n      <th></th>\n      <th>token</th>\n      <th>count</th>\n    </tr>\n  </thead>\n  <tbody>\n    <tr>\n      <th>0</th>\n      <td>job</td>\n      <td>571</td>\n    </tr>\n    <tr>\n      <th>1</th>\n      <td>service</td>\n      <td>466</td>\n    </tr>\n    <tr>\n      <th>2</th>\n      <td>action</td>\n      <td>457</td>\n    </tr>\n    <tr>\n      <th>3</th>\n      <td>start</td>\n      <td>424</td>\n    </tr>\n    <tr>\n      <th>4</th>\n      <td>file</td>\n      <td>421</td>\n    </tr>\n    <tr>\n      <th>5</th>\n      <td>run</td>\n      <td>394</td>\n    </tr>\n    <tr>\n      <th>6</th>\n      <td>fail</td>\n      <td>369</td>\n    </tr>\n    <tr>\n      <th>7</th>\n      <td>execut</td>\n      <td>356</td>\n    </tr>\n    <tr>\n      <th>8</th>\n      <td>call</td>\n      <td>353</td>\n    </tr>\n    <tr>\n      <th>9</th>\n      <td>time</td>\n      <td>348</td>\n    </tr>\n    <tr>\n      <th>10</th>\n      <td>wait</td>\n      <td>286</td>\n    </tr>\n    <tr>\n      <th>11</th>\n      <td>read</td>\n      <td>277</td>\n    </tr>\n    <tr>\n      <th>12</th>\n      <td>write</td>\n      <td>243</td>\n    </tr>\n    <tr>\n      <th>13</th>\n      <td>close</td>\n      <td>215</td>\n    </tr>\n    <tr>\n      <th>14</th>\n      <td>http</td>\n      <td>182</td>\n    </tr>\n  </tbody>\n</table>\n</div>"
     },
     "execution_count": 5,
     "metadata": {},
     "output_type": "execute_result"
    }
   ],
   "source": [
    "projects = pd.read_csv(easy_output_path + 'features_frequency.csv')\n",
    "\n",
    "projects.head(15)"
   ]
  },
  {
   "cell_type": "markdown",
   "metadata": {},
   "source": [
    "Part 3:\n",
    "\n",
    "Issues regarding running Java:\n",
    "\n",
    "It is never mentioned how exactly do they handle the parts that use java and the building the main jar files they use. To make it easy, I just made a docker that autoamtically builds and runs all those sub-parts:"
   ]
  },
  {
   "cell_type": "markdown",
   "metadata": {},
   "source": [
    "Basically, we just need an Alpine or Linux that can run JDK with injected Gradle. Then I run multiple commands needed to build and run Java-related parts in the method : '__actuall.py :: separate_all_tests()__'\n",
    "\n",
    "\n",
    "\n",
    "> for further you can refer to docker-compose.yml"
   ]
  },
  {
   "cell_type": "markdown",
   "metadata": {},
   "source": [
    "Finally, the rest of the code run more or less smooth. I had to modify some parts of the code any part that worked fine; I just directly imported using '\\_\\_import()\\_\\_'  suite.\n",
    "\n",
    "\n",
    "Example of grabbed test file: [file](../data/output/ez/cern.c2mon.daq.filter.dynamic.DiffTimeDeadbandActivatorTest.testNoActivationOnFirstRecord)\n",
    "\n",
    "Example of calculated test case: [test](../data/output/ez/keepMostRecentOptionShouldWorks)\n",
    "\n",
    "Example of tokenized tes case:  [token](../data/output/ez/testFlowDropsToSameSink)"
   ]
  },
  {
   "cell_type": "markdown",
   "metadata": {},
   "source": [
    "⚠️ This document might be subject of copy-right. All rights reserved for the orginial creators. -Amir Dashti"
   ]
  }
 ],
 "metadata": {
  "kernelspec": {
   "display_name": "Python 3",
   "language": "python",
   "name": "python3"
  },
  "language_info": {
   "codemirror_mode": {
    "name": "ipython",
    "version": 3
   },
   "file_extension": ".py",
   "mimetype": "text/x-python",
   "name": "python",
   "nbconvert_exporter": "python",
   "pygments_lexer": "ipython3",
   "version": "3.8.5"
  }
 },
 "nbformat": 4,
 "nbformat_minor": 1
}