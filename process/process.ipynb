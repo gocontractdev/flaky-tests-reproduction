{
 "cells": [
  {
   "cell_type": "markdown",
   "metadata": {
    "collapsed": true,
    "pycharm": {
     "name": "#%%\n"
    }
   },
   "source": [
    "### Process:\n",
    "\n",
    "> This document describes the process of re-creation, general challenges and work arounds that have been advised for it.\n",
    ">"
   ]
  },
  {
   "cell_type": "code",
   "execution_count": 1,
   "metadata": {},
   "outputs": [],
   "source": [
    "import pandas as pd\n",
    "\n",
    "easy_path = '../data/input/ez/'"
   ]
  },
  {
   "cell_type": "markdown",
   "metadata": {},
   "source": [
    "#### Part 0:\n",
    "\n",
    "deflaker is the main data set has been used in this project. It monitors the followin datasets:\n",
    "    \n"
   ]
  },
  {
   "cell_type": "code",
   "execution_count": 2,
   "metadata": {},
   "outputs": [
    {
     "data": {
      "text/html": [
       "<div>\n",
       "<style scoped>\n",
       "    .dataframe tbody tr th:only-of-type {\n",
       "        vertical-align: middle;\n",
       "    }\n",
       "\n",
       "    .dataframe tbody tr th {\n",
       "        vertical-align: top;\n",
       "    }\n",
       "\n",
       "    .dataframe thead th {\n",
       "        text-align: right;\n",
       "    }\n",
       "</style>\n",
       "<table border=\"1\" class=\"dataframe\">\n",
       "  <thead>\n",
       "    <tr style=\"text-align: right;\">\n",
       "      <th></th>\n",
       "      <th>Project Name</th>\n",
       "      <th>Project Address</th>\n",
       "    </tr>\n",
       "  </thead>\n",
       "  <tbody>\n",
       "    <tr>\n",
       "      <th>0</th>\n",
       "      <td>Achilles</td>\n",
       "      <td>git@github.com:doanduyhai/Achilles.git</td>\n",
       "    </tr>\n",
       "    <tr>\n",
       "      <th>1</th>\n",
       "      <td>ambari</td>\n",
       "      <td>git@github.com:apache/ambari.git</td>\n",
       "    </tr>\n",
       "    <tr>\n",
       "      <th>2</th>\n",
       "      <td>assertj-core</td>\n",
       "      <td>git@github.com:joel-costigliola/assertj-core.git</td>\n",
       "    </tr>\n",
       "    <tr>\n",
       "      <th>3</th>\n",
       "      <td>checkstyle</td>\n",
       "      <td>git@github.com:checkstyle/checkstyle.git</td>\n",
       "    </tr>\n",
       "    <tr>\n",
       "      <th>4</th>\n",
       "      <td>cloudera.oryx</td>\n",
       "      <td>git@github.com:cloudera/oryx.git</td>\n",
       "    </tr>\n",
       "    <tr>\n",
       "      <th>5</th>\n",
       "      <td>commons-exec</td>\n",
       "      <td>git@github.com:apache/commons-exec.git</td>\n",
       "    </tr>\n",
       "    <tr>\n",
       "      <th>6</th>\n",
       "      <td>dropwizard</td>\n",
       "      <td>git@github.com:dropwizard/dropwizard.git</td>\n",
       "    </tr>\n",
       "    <tr>\n",
       "      <th>7</th>\n",
       "      <td>hadoop</td>\n",
       "      <td>git@github.com:apache/hadoop.git</td>\n",
       "    </tr>\n",
       "    <tr>\n",
       "      <th>8</th>\n",
       "      <td>handlebars.java</td>\n",
       "      <td>git@github.com:jknack/handlebars.java.git</td>\n",
       "    </tr>\n",
       "    <tr>\n",
       "      <th>9</th>\n",
       "      <td>hbase</td>\n",
       "      <td>git@github.com:apache/hbase.git</td>\n",
       "    </tr>\n",
       "  </tbody>\n",
       "</table>\n",
       "</div>"
      ],
      "text/plain": [
       "      Project Name                                   Project Address\n",
       "0         Achilles            git@github.com:doanduyhai/Achilles.git\n",
       "1           ambari                  git@github.com:apache/ambari.git\n",
       "2     assertj-core  git@github.com:joel-costigliola/assertj-core.git\n",
       "3       checkstyle          git@github.com:checkstyle/checkstyle.git\n",
       "4    cloudera.oryx                  git@github.com:cloudera/oryx.git\n",
       "5     commons-exec            git@github.com:apache/commons-exec.git\n",
       "6       dropwizard          git@github.com:dropwizard/dropwizard.git\n",
       "7           hadoop                  git@github.com:apache/hadoop.git\n",
       "8  handlebars.java         git@github.com:jknack/handlebars.java.git\n",
       "9            hbase                   git@github.com:apache/hbase.git"
      ]
     },
     "execution_count": 2,
     "metadata": {},
     "output_type": "execute_result"
    }
   ],
   "source": [
    "projects = pd.read_csv(easy_path + 'historical_projects.csv')\n",
    "\n",
    "projects.head(10)"
   ]
  },
  {
   "cell_type": "markdown",
   "metadata": {},
   "source": [
    "\n",
    "#### Part 1:\n",
    "\n",
    "To detect flaky test samples, we have to run \"mine_test_files.py\" using \"historical_rerun_flaky_tests.csv\"\n",
    "\n",
    "❌ Unfortunately, this code does not run. -> Solution: I had to fix the logic for this file."
   ]
  },
  {
   "cell_type": "code",
   "execution_count": 4,
   "metadata": {},
   "outputs": [
    {
     "data": {
      "text/html": [
       "<div>\n",
       "<style scoped>\n",
       "    .dataframe tbody tr th:only-of-type {\n",
       "        vertical-align: middle;\n",
       "    }\n",
       "\n",
       "    .dataframe tbody tr th {\n",
       "        vertical-align: top;\n",
       "    }\n",
       "\n",
       "    .dataframe thead th {\n",
       "        text-align: right;\n",
       "    }\n",
       "</style>\n",
       "<table border=\"1\" class=\"dataframe\">\n",
       "  <thead>\n",
       "    <tr style=\"text-align: right;\">\n",
       "      <th></th>\n",
       "      <th>Project</th>\n",
       "      <th>sha</th>\n",
       "      <th>Test class</th>\n",
       "      <th>Test method</th>\n",
       "    </tr>\n",
       "  </thead>\n",
       "  <tbody>\n",
       "    <tr>\n",
       "      <th>0</th>\n",
       "      <td>achilles</td>\n",
       "      <td>2a82e0a011197906a8471be487da8b24ffaa39d9</td>\n",
       "      <td>info.archinnov.achilles.it.TestEntityWithStati...</td>\n",
       "      <td>should_find_using_static_consistency</td>\n",
       "    </tr>\n",
       "    <tr>\n",
       "      <th>1</th>\n",
       "      <td>achilles</td>\n",
       "      <td>3ef293744f913c1aa8cf59d2fdd78f46a5e2f79f</td>\n",
       "      <td>info.archinnov.achilles.it.TestALLEntityAsChild</td>\n",
       "      <td>should_delete_by_id</td>\n",
       "    </tr>\n",
       "    <tr>\n",
       "      <th>2</th>\n",
       "      <td>achilles</td>\n",
       "      <td>3ef293744f913c1aa8cf59d2fdd78f46a5e2f79f</td>\n",
       "      <td>info.archinnov.achilles.it.TestALLEntityAsChild</td>\n",
       "      <td>should_dsl_delete</td>\n",
       "    </tr>\n",
       "    <tr>\n",
       "      <th>3</th>\n",
       "      <td>achilles</td>\n",
       "      <td>3ef293744f913c1aa8cf59d2fdd78f46a5e2f79f</td>\n",
       "      <td>info.archinnov.achilles.it.TestALLEntityAsChild</td>\n",
       "      <td>should_dsl_update_child_value</td>\n",
       "    </tr>\n",
       "    <tr>\n",
       "      <th>4</th>\n",
       "      <td>achilles</td>\n",
       "      <td>3ef293744f913c1aa8cf59d2fdd78f46a5e2f79f</td>\n",
       "      <td>info.archinnov.achilles.it.TestALLEntityAsChild</td>\n",
       "      <td>should_insert</td>\n",
       "    </tr>\n",
       "    <tr>\n",
       "      <th>5</th>\n",
       "      <td>achilles</td>\n",
       "      <td>3ef293744f913c1aa8cf59d2fdd78f46a5e2f79f</td>\n",
       "      <td>info.archinnov.achilles.it.TestCRUDSimpleEntity</td>\n",
       "      <td>should_delete_by_id</td>\n",
       "    </tr>\n",
       "    <tr>\n",
       "      <th>6</th>\n",
       "      <td>achilles</td>\n",
       "      <td>3ef293744f913c1aa8cf59d2fdd78f46a5e2f79f</td>\n",
       "      <td>info.archinnov.achilles.it.TestCRUDSimpleEntity</td>\n",
       "      <td>should_delete_by_partition</td>\n",
       "    </tr>\n",
       "    <tr>\n",
       "      <th>7</th>\n",
       "      <td>achilles</td>\n",
       "      <td>3ef293744f913c1aa8cf59d2fdd78f46a5e2f79f</td>\n",
       "      <td>info.archinnov.achilles.it.TestCRUDSimpleEntity</td>\n",
       "      <td>should_delete_with_equal_condition</td>\n",
       "    </tr>\n",
       "    <tr>\n",
       "      <th>8</th>\n",
       "      <td>achilles</td>\n",
       "      <td>3ef293744f913c1aa8cf59d2fdd78f46a5e2f79f</td>\n",
       "      <td>info.archinnov.achilles.it.TestCRUDSimpleEntity</td>\n",
       "      <td>should_delete_with_inequal_condition</td>\n",
       "    </tr>\n",
       "    <tr>\n",
       "      <th>9</th>\n",
       "      <td>achilles</td>\n",
       "      <td>3ef293744f913c1aa8cf59d2fdd78f46a5e2f79f</td>\n",
       "      <td>info.archinnov.achilles.it.TestCRUDSimpleEntity</td>\n",
       "      <td>should_delete_with_not_equal_condition</td>\n",
       "    </tr>\n",
       "  </tbody>\n",
       "</table>\n",
       "</div>"
      ],
      "text/plain": [
       "    Project                                       sha  \\\n",
       "0  achilles  2a82e0a011197906a8471be487da8b24ffaa39d9   \n",
       "1  achilles  3ef293744f913c1aa8cf59d2fdd78f46a5e2f79f   \n",
       "2  achilles  3ef293744f913c1aa8cf59d2fdd78f46a5e2f79f   \n",
       "3  achilles  3ef293744f913c1aa8cf59d2fdd78f46a5e2f79f   \n",
       "4  achilles  3ef293744f913c1aa8cf59d2fdd78f46a5e2f79f   \n",
       "5  achilles  3ef293744f913c1aa8cf59d2fdd78f46a5e2f79f   \n",
       "6  achilles  3ef293744f913c1aa8cf59d2fdd78f46a5e2f79f   \n",
       "7  achilles  3ef293744f913c1aa8cf59d2fdd78f46a5e2f79f   \n",
       "8  achilles  3ef293744f913c1aa8cf59d2fdd78f46a5e2f79f   \n",
       "9  achilles  3ef293744f913c1aa8cf59d2fdd78f46a5e2f79f   \n",
       "\n",
       "                                          Test class  \\\n",
       "0  info.archinnov.achilles.it.TestEntityWithStati...   \n",
       "1    info.archinnov.achilles.it.TestALLEntityAsChild   \n",
       "2    info.archinnov.achilles.it.TestALLEntityAsChild   \n",
       "3    info.archinnov.achilles.it.TestALLEntityAsChild   \n",
       "4    info.archinnov.achilles.it.TestALLEntityAsChild   \n",
       "5    info.archinnov.achilles.it.TestCRUDSimpleEntity   \n",
       "6    info.archinnov.achilles.it.TestCRUDSimpleEntity   \n",
       "7    info.archinnov.achilles.it.TestCRUDSimpleEntity   \n",
       "8    info.archinnov.achilles.it.TestCRUDSimpleEntity   \n",
       "9    info.archinnov.achilles.it.TestCRUDSimpleEntity   \n",
       "\n",
       "                              Test method  \n",
       "0    should_find_using_static_consistency  \n",
       "1                     should_delete_by_id  \n",
       "2                       should_dsl_delete  \n",
       "3           should_dsl_update_child_value  \n",
       "4                           should_insert  \n",
       "5                     should_delete_by_id  \n",
       "6              should_delete_by_partition  \n",
       "7      should_delete_with_equal_condition  \n",
       "8    should_delete_with_inequal_condition  \n",
       "9  should_delete_with_not_equal_condition  "
      ]
     },
     "execution_count": 4,
     "metadata": {},
     "output_type": "execute_result"
    }
   ],
   "source": [
    "projects = pd.read_csv(easy_path + 'historical_rerun_flaky_tests.csv')\n",
    "\n",
    "projects.head(10)"
   ]
  },
  {
   "cell_type": "markdown",
   "metadata": {},
   "source": [
    "#### Part 2:\n",
    "\n",
    "To detect non-flaky test sample, the paper relies on running each of the tests '100' time then based on the \n",
    "rereuns tags fully successful ones as LIKELY to be nonflaky.\n",
    "\n",
    "❌ Unfortunately, the git repository does not provide the explination as to how did they ran the tests.\n",
    "-> Solution -> I have completely re-made the logic using docker running Java.\n"
   ]
  },
  {
   "cell_type": "code",
   "execution_count": null,
   "metadata": {},
   "outputs": [],
   "source": []
  },
  {
   "cell_type": "code",
   "execution_count": null,
   "metadata": {},
   "outputs": [],
   "source": []
  },
  {
   "cell_type": "code",
   "execution_count": null,
   "metadata": {},
   "outputs": [],
   "source": []
  },
  {
   "cell_type": "code",
   "execution_count": null,
   "metadata": {},
   "outputs": [],
   "source": []
  },
  {
   "cell_type": "markdown",
   "metadata": {},
   "source": [
    "⚠️ This document might be subject of copy-right. All rights reserved for the orginial creators. -Amir Dashti"
   ]
  }
 ],
 "metadata": {
  "kernelspec": {
   "display_name": "Python 3",
   "language": "python",
   "name": "python3"
  },
  "language_info": {
   "codemirror_mode": {
    "name": "ipython",
    "version": 3
   },
   "file_extension": ".py",
   "mimetype": "text/x-python",
   "name": "python",
   "nbconvert_exporter": "python",
   "pygments_lexer": "ipython3",
   "version": "3.8.5"
  }
 },
 "nbformat": 4,
 "nbformat_minor": 1
}